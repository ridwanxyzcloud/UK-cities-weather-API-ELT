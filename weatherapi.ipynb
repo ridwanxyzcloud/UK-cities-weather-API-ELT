{
 "cells": [
  {
   "cell_type": "code",
   "execution_count": 2,
   "metadata": {},
   "outputs": [
    {
     "data": {
      "text/plain": [
       "True"
      ]
     },
     "execution_count": 2,
     "metadata": {},
     "output_type": "execute_result"
    }
   ],
   "source": [
    "import requests\n",
    "import pandas as pd\n",
    "from dotenv import load_dotenv\n",
    "import os\n",
    "\n",
    "load_dotenv(override=True)"
   ]
  },
  {
   "cell_type": "code",
   "execution_count": 2,
   "metadata": {},
   "outputs": [],
   "source": [
    "# testing the API key\n",
    "lat = 5.879698\n",
    "lon = 5.700531\n",
    "API_key = os.getenv('weather_api')\n",
    "url = f'https://api.openweathermap.org/data/2.5/weather?lat={lat}&lon={lon}&appid={API_key}'"
   ]
  },
  {
   "cell_type": "code",
   "execution_count": 3,
   "metadata": {},
   "outputs": [
    {
     "data": {
      "text/plain": [
       "200"
      ]
     },
     "execution_count": 3,
     "metadata": {},
     "output_type": "execute_result"
    }
   ],
   "source": [
    "response = requests.get(url)\n",
    "\n",
    "# status check, 200 is success: 400> client, 500> server\n",
    "response.status_code"
   ]
  },
  {
   "cell_type": "code",
   "execution_count": 4,
   "metadata": {},
   "outputs": [
    {
     "data": {
      "text/plain": [
       "{'coord': {'lon': 5.7005, 'lat': 5.8797},\n",
       " 'weather': [{'id': 804,\n",
       "   'main': 'Clouds',\n",
       "   'description': 'overcast clouds',\n",
       "   'icon': '04d'}],\n",
       " 'base': 'stations',\n",
       " 'main': {'temp': 299.05,\n",
       "  'feels_like': 300.1,\n",
       "  'temp_min': 299.05,\n",
       "  'temp_max': 299.05,\n",
       "  'pressure': 1015,\n",
       "  'humidity': 92,\n",
       "  'sea_level': 1015,\n",
       "  'grnd_level': 1014},\n",
       " 'visibility': 10000,\n",
       " 'wind': {'speed': 1.18, 'deg': 172, 'gust': 2.27},\n",
       " 'clouds': {'all': 100},\n",
       " 'dt': 1717398615,\n",
       " 'sys': {'country': 'NG', 'sunrise': 1717392134, 'sunset': 1717436934},\n",
       " 'timezone': 3600,\n",
       " 'id': 2323675,\n",
       " 'name': 'Sapele',\n",
       " 'cod': 200}"
      ]
     },
     "execution_count": 4,
     "metadata": {},
     "output_type": "execute_result"
    }
   ],
   "source": [
    "data = response.json()\n",
    "data"
   ]
  },
  {
   "cell_type": "code",
   "execution_count": 5,
   "metadata": {},
   "outputs": [
    {
     "data": {
      "text/plain": [
       "[{'id': 804,\n",
       "  'main': 'Clouds',\n",
       "  'description': 'overcast clouds',\n",
       "  'icon': '04d'}]"
      ]
     },
     "execution_count": 5,
     "metadata": {},
     "output_type": "execute_result"
    }
   ],
   "source": [
    "data['weather']"
   ]
  },
  {
   "cell_type": "code",
   "execution_count": 14,
   "metadata": {},
   "outputs": [
    {
     "data": {
      "text/plain": [
       "301.78"
      ]
     },
     "execution_count": 14,
     "metadata": {},
     "output_type": "execute_result"
    }
   ],
   "source": [
    "temp = data['main']['temp']\n",
    "temp"
   ]
  },
  {
   "cell_type": "code",
   "execution_count": 15,
   "metadata": {},
   "outputs": [
    {
     "data": {
      "text/plain": [
       "1011"
      ]
     },
     "execution_count": 15,
     "metadata": {},
     "output_type": "execute_result"
    }
   ],
   "source": [
    "pressure = data['main']['pressure']\n",
    "pressure"
   ]
  },
  {
   "cell_type": "code",
   "execution_count": 6,
   "metadata": {},
   "outputs": [],
   "source": [
    "# Extracting relevant data\n",
    "location = data['name']\n",
    "weather_main = data['weather'][0]['main']\n",
    "description = data['weather'][0]['description']\n",
    "temp = data['main']['temp']\n",
    "pressure = data['main']['pressure']\n",
    "humidity = data['main']['humidity']\n",
    "wind_speed = data['wind']['speed']\n",
    "dt = data['dt']\n",
    "tz = data['timezone']"
   ]
  },
  {
   "cell_type": "code",
   "execution_count": 7,
   "metadata": {},
   "outputs": [
    {
     "data": {
      "text/html": [
       "<div>\n",
       "<style scoped>\n",
       "    .dataframe tbody tr th:only-of-type {\n",
       "        vertical-align: middle;\n",
       "    }\n",
       "\n",
       "    .dataframe tbody tr th {\n",
       "        vertical-align: top;\n",
       "    }\n",
       "\n",
       "    .dataframe thead th {\n",
       "        text-align: right;\n",
       "    }\n",
       "</style>\n",
       "<table border=\"1\" class=\"dataframe\">\n",
       "  <thead>\n",
       "    <tr style=\"text-align: right;\">\n",
       "      <th></th>\n",
       "      <th>Location</th>\n",
       "      <th>Weather</th>\n",
       "      <th>Description</th>\n",
       "      <th>Temperature</th>\n",
       "      <th>Pressure</th>\n",
       "      <th>Humidity</th>\n",
       "      <th>Wind Speed</th>\n",
       "      <th>Datetime</th>\n",
       "      <th>Timezone</th>\n",
       "    </tr>\n",
       "  </thead>\n",
       "  <tbody>\n",
       "    <tr>\n",
       "      <th>0</th>\n",
       "      <td>Sapele</td>\n",
       "      <td>Clouds</td>\n",
       "      <td>overcast clouds</td>\n",
       "      <td>299.05</td>\n",
       "      <td>1015</td>\n",
       "      <td>92</td>\n",
       "      <td>1.18</td>\n",
       "      <td>1717398615</td>\n",
       "      <td>3600</td>\n",
       "    </tr>\n",
       "  </tbody>\n",
       "</table>\n",
       "</div>"
      ],
      "text/plain": [
       "  Location Weather      Description  Temperature  Pressure  Humidity  \\\n",
       "0   Sapele  Clouds  overcast clouds       299.05      1015        92   \n",
       "\n",
       "   Wind Speed    Datetime  Timezone  \n",
       "0        1.18  1717398615      3600  "
      ]
     },
     "execution_count": 7,
     "metadata": {},
     "output_type": "execute_result"
    }
   ],
   "source": [
    "# Creating a dictionary from the extracted data\n",
    "data_dict = {\n",
    "    \"Location\": [location],\n",
    "    \"Weather\": [weather_main],\n",
    "    \"Description\": [description],\n",
    "    \"Temperature\": [temp],\n",
    "    \"Pressure\": [pressure],\n",
    "    \"Humidity\": [humidity],\n",
    "    \"Wind Speed\": [wind_speed],\n",
    "    \"Datetime\": [dt],\n",
    "    \"Timezone\": [tz]\n",
    "}\n",
    "\n",
    "# Creating a DataFrame from the dictionary\n",
    "df = pd.DataFrame(data_dict)\n",
    "df"
   ]
  },
  {
   "cell_type": "code",
   "execution_count": 38,
   "metadata": {},
   "outputs": [
    {
     "data": {
      "text/html": [
       "<div>\n",
       "<style scoped>\n",
       "    .dataframe tbody tr th:only-of-type {\n",
       "        vertical-align: middle;\n",
       "    }\n",
       "\n",
       "    .dataframe tbody tr th {\n",
       "        vertical-align: top;\n",
       "    }\n",
       "\n",
       "    .dataframe thead th {\n",
       "        text-align: right;\n",
       "    }\n",
       "</style>\n",
       "<table border=\"1\" class=\"dataframe\">\n",
       "  <thead>\n",
       "    <tr style=\"text-align: right;\">\n",
       "      <th></th>\n",
       "      <th>city</th>\n",
       "      <th>latitude</th>\n",
       "      <th>longitude</th>\n",
       "    </tr>\n",
       "  </thead>\n",
       "  <tbody>\n",
       "    <tr>\n",
       "      <th>0</th>\n",
       "      <td>London</td>\n",
       "      <td>51.5074</td>\n",
       "      <td>-0.1278</td>\n",
       "    </tr>\n",
       "    <tr>\n",
       "      <th>1</th>\n",
       "      <td>Birmingham</td>\n",
       "      <td>52.4862</td>\n",
       "      <td>-1.8904</td>\n",
       "    </tr>\n",
       "    <tr>\n",
       "      <th>2</th>\n",
       "      <td>Manchester</td>\n",
       "      <td>53.4808</td>\n",
       "      <td>-2.2426</td>\n",
       "    </tr>\n",
       "    <tr>\n",
       "      <th>3</th>\n",
       "      <td>Liverpool</td>\n",
       "      <td>53.4084</td>\n",
       "      <td>-2.9916</td>\n",
       "    </tr>\n",
       "    <tr>\n",
       "      <th>4</th>\n",
       "      <td>Leeds</td>\n",
       "      <td>53.8008</td>\n",
       "      <td>-1.5491</td>\n",
       "    </tr>\n",
       "    <tr>\n",
       "      <th>...</th>\n",
       "      <td>...</td>\n",
       "      <td>...</td>\n",
       "      <td>...</td>\n",
       "    </tr>\n",
       "    <tr>\n",
       "      <th>69</th>\n",
       "      <td>Bangor</td>\n",
       "      <td>53.2270</td>\n",
       "      <td>-4.1293</td>\n",
       "    </tr>\n",
       "    <tr>\n",
       "      <th>70</th>\n",
       "      <td>St Asaph</td>\n",
       "      <td>53.2550</td>\n",
       "      <td>-3.4483</td>\n",
       "    </tr>\n",
       "    <tr>\n",
       "      <th>71</th>\n",
       "      <td>St Davids</td>\n",
       "      <td>51.8820</td>\n",
       "      <td>-5.2697</td>\n",
       "    </tr>\n",
       "    <tr>\n",
       "      <th>72</th>\n",
       "      <td>Wrexham</td>\n",
       "      <td>53.0463</td>\n",
       "      <td>-2.9925</td>\n",
       "    </tr>\n",
       "    <tr>\n",
       "      <th>73</th>\n",
       "      <td>Belfast</td>\n",
       "      <td>54.5973</td>\n",
       "      <td>-5.9301</td>\n",
       "    </tr>\n",
       "  </tbody>\n",
       "</table>\n",
       "<p>74 rows × 3 columns</p>\n",
       "</div>"
      ],
      "text/plain": [
       "          city  latitude  longitude\n",
       "0       London   51.5074    -0.1278\n",
       "1   Birmingham   52.4862    -1.8904\n",
       "2   Manchester   53.4808    -2.2426\n",
       "3    Liverpool   53.4084    -2.9916\n",
       "4        Leeds   53.8008    -1.5491\n",
       "..         ...       ...        ...\n",
       "69      Bangor   53.2270    -4.1293\n",
       "70    St Asaph   53.2550    -3.4483\n",
       "71   St Davids   51.8820    -5.2697\n",
       "72     Wrexham   53.0463    -2.9925\n",
       "73     Belfast   54.5973    -5.9301\n",
       "\n",
       "[74 rows x 3 columns]"
      ]
     },
     "execution_count": 38,
     "metadata": {},
     "output_type": "execute_result"
    }
   ],
   "source": [
    "\n",
    "# Load the JSON file containing city coordinates\n",
    "import json\n",
    "with open('uk_cities_coordinates.json', 'r') as json_file:\n",
    "    data = json.load(json_file)\n",
    "\n",
    "# Create a DataFrame from the JSON data\n",
    "all_locations = pd.DataFrame(data['cities'])\n",
    "\n",
    "# Rename the 'name' column to 'city'\n",
    "all_locations = all_locations.rename(columns={'name': 'city'})\n",
    "all_locations"
   ]
  },
  {
   "cell_type": "code",
   "execution_count": 39,
   "metadata": {},
   "outputs": [
    {
     "data": {
      "text/html": [
       "<div>\n",
       "<style scoped>\n",
       "    .dataframe tbody tr th:only-of-type {\n",
       "        vertical-align: middle;\n",
       "    }\n",
       "\n",
       "    .dataframe tbody tr th {\n",
       "        vertical-align: top;\n",
       "    }\n",
       "\n",
       "    .dataframe thead th {\n",
       "        text-align: right;\n",
       "    }\n",
       "</style>\n",
       "<table border=\"1\" class=\"dataframe\">\n",
       "  <thead>\n",
       "    <tr style=\"text-align: right;\">\n",
       "      <th></th>\n",
       "      <th>Location</th>\n",
       "      <th>Weather</th>\n",
       "      <th>Description</th>\n",
       "      <th>Temperature</th>\n",
       "      <th>Pressure</th>\n",
       "      <th>Humidity</th>\n",
       "      <th>Wind Speed</th>\n",
       "      <th>Datetime</th>\n",
       "      <th>Timezone</th>\n",
       "    </tr>\n",
       "  </thead>\n",
       "  <tbody>\n",
       "    <tr>\n",
       "      <th>0</th>\n",
       "      <td>London</td>\n",
       "      <td>Clouds</td>\n",
       "      <td>broken clouds</td>\n",
       "      <td>288.76</td>\n",
       "      <td>1021</td>\n",
       "      <td>79</td>\n",
       "      <td>2.57</td>\n",
       "      <td>1717399705</td>\n",
       "      <td>3600</td>\n",
       "    </tr>\n",
       "    <tr>\n",
       "      <th>1</th>\n",
       "      <td>Birmingham</td>\n",
       "      <td>Clouds</td>\n",
       "      <td>broken clouds</td>\n",
       "      <td>287.72</td>\n",
       "      <td>1023</td>\n",
       "      <td>85</td>\n",
       "      <td>3.09</td>\n",
       "      <td>1717399379</td>\n",
       "      <td>3600</td>\n",
       "    </tr>\n",
       "    <tr>\n",
       "      <th>2</th>\n",
       "      <td>Manchester</td>\n",
       "      <td>Clouds</td>\n",
       "      <td>broken clouds</td>\n",
       "      <td>287.56</td>\n",
       "      <td>1023</td>\n",
       "      <td>89</td>\n",
       "      <td>1.03</td>\n",
       "      <td>1717399738</td>\n",
       "      <td>3600</td>\n",
       "    </tr>\n",
       "    <tr>\n",
       "      <th>3</th>\n",
       "      <td>Liverpool</td>\n",
       "      <td>Rain</td>\n",
       "      <td>light rain</td>\n",
       "      <td>287.46</td>\n",
       "      <td>1021</td>\n",
       "      <td>91</td>\n",
       "      <td>5.66</td>\n",
       "      <td>1717399974</td>\n",
       "      <td>3600</td>\n",
       "    </tr>\n",
       "    <tr>\n",
       "      <th>4</th>\n",
       "      <td>Leeds</td>\n",
       "      <td>Clouds</td>\n",
       "      <td>few clouds</td>\n",
       "      <td>287.90</td>\n",
       "      <td>1017</td>\n",
       "      <td>84</td>\n",
       "      <td>6.69</td>\n",
       "      <td>1717399706</td>\n",
       "      <td>3600</td>\n",
       "    </tr>\n",
       "    <tr>\n",
       "      <th>...</th>\n",
       "      <td>...</td>\n",
       "      <td>...</td>\n",
       "      <td>...</td>\n",
       "      <td>...</td>\n",
       "      <td>...</td>\n",
       "      <td>...</td>\n",
       "      <td>...</td>\n",
       "      <td>...</td>\n",
       "      <td>...</td>\n",
       "    </tr>\n",
       "    <tr>\n",
       "      <th>69</th>\n",
       "      <td>Bangor</td>\n",
       "      <td>Clouds</td>\n",
       "      <td>overcast clouds</td>\n",
       "      <td>286.47</td>\n",
       "      <td>1024</td>\n",
       "      <td>41</td>\n",
       "      <td>3.60</td>\n",
       "      <td>1717399992</td>\n",
       "      <td>3600</td>\n",
       "    </tr>\n",
       "    <tr>\n",
       "      <th>70</th>\n",
       "      <td>St Asaph</td>\n",
       "      <td>Clouds</td>\n",
       "      <td>overcast clouds</td>\n",
       "      <td>286.51</td>\n",
       "      <td>1023</td>\n",
       "      <td>95</td>\n",
       "      <td>0.89</td>\n",
       "      <td>1717399992</td>\n",
       "      <td>3600</td>\n",
       "    </tr>\n",
       "    <tr>\n",
       "      <th>71</th>\n",
       "      <td>St Davids</td>\n",
       "      <td>Clouds</td>\n",
       "      <td>overcast clouds</td>\n",
       "      <td>288.72</td>\n",
       "      <td>1025</td>\n",
       "      <td>93</td>\n",
       "      <td>3.93</td>\n",
       "      <td>1717399992</td>\n",
       "      <td>3600</td>\n",
       "    </tr>\n",
       "    <tr>\n",
       "      <th>72</th>\n",
       "      <td>Wrexham</td>\n",
       "      <td>Drizzle</td>\n",
       "      <td>light intensity drizzle</td>\n",
       "      <td>286.84</td>\n",
       "      <td>1023</td>\n",
       "      <td>93</td>\n",
       "      <td>4.12</td>\n",
       "      <td>1717399992</td>\n",
       "      <td>3600</td>\n",
       "    </tr>\n",
       "    <tr>\n",
       "      <th>73</th>\n",
       "      <td>Belfast</td>\n",
       "      <td>Clouds</td>\n",
       "      <td>broken clouds</td>\n",
       "      <td>287.11</td>\n",
       "      <td>1023</td>\n",
       "      <td>84</td>\n",
       "      <td>4.63</td>\n",
       "      <td>1717399486</td>\n",
       "      <td>3600</td>\n",
       "    </tr>\n",
       "  </tbody>\n",
       "</table>\n",
       "<p>74 rows × 9 columns</p>\n",
       "</div>"
      ],
      "text/plain": [
       "      Location  Weather              Description  Temperature  Pressure  \\\n",
       "0       London   Clouds            broken clouds       288.76      1021   \n",
       "1   Birmingham   Clouds            broken clouds       287.72      1023   \n",
       "2   Manchester   Clouds            broken clouds       287.56      1023   \n",
       "3    Liverpool     Rain               light rain       287.46      1021   \n",
       "4        Leeds   Clouds               few clouds       287.90      1017   \n",
       "..         ...      ...                      ...          ...       ...   \n",
       "69      Bangor   Clouds          overcast clouds       286.47      1024   \n",
       "70    St Asaph   Clouds          overcast clouds       286.51      1023   \n",
       "71   St Davids   Clouds          overcast clouds       288.72      1025   \n",
       "72     Wrexham  Drizzle  light intensity drizzle       286.84      1023   \n",
       "73     Belfast   Clouds            broken clouds       287.11      1023   \n",
       "\n",
       "    Humidity  Wind Speed    Datetime  Timezone  \n",
       "0         79        2.57  1717399705      3600  \n",
       "1         85        3.09  1717399379      3600  \n",
       "2         89        1.03  1717399738      3600  \n",
       "3         91        5.66  1717399974      3600  \n",
       "4         84        6.69  1717399706      3600  \n",
       "..       ...         ...         ...       ...  \n",
       "69        41        3.60  1717399992      3600  \n",
       "70        95        0.89  1717399992      3600  \n",
       "71        93        3.93  1717399992      3600  \n",
       "72        93        4.12  1717399992      3600  \n",
       "73        84        4.63  1717399486      3600  \n",
       "\n",
       "[74 rows x 9 columns]"
      ]
     },
     "execution_count": 39,
     "metadata": {},
     "output_type": "execute_result"
    }
   ],
   "source": [
    "# Empty lists to hold data points\n",
    "locations = []\n",
    "weathers = []\n",
    "descriptions = []\n",
    "temps = []\n",
    "pressures = []\n",
    "humidities = []\n",
    "wind_speeds = []\n",
    "timezones = []\n",
    "dates = []\n",
    "\n",
    "API_key = 'c2e72c4355186edfa9c4049a767a16e3'\n",
    "\n",
    "for index, row in all_locations.iterrows():\n",
    "    lat = row['latitude']\n",
    "    lon = row['longitude']\n",
    "\n",
    "    url = f'https://api.openweathermap.org/data/2.5/weather?lat={lat}&lon={lon}&appid={API_key}'\n",
    "    response = requests.get(url)\n",
    "    data = response.json()\n",
    "\n",
    "    # Extracting relevant data\n",
    "    location = data['name']\n",
    "    locations.append(location)\n",
    "\n",
    "    weather_main = data['weather'][0]['main']\n",
    "    weathers.append(weather_main)\n",
    "\n",
    "    description = data['weather'][0]['description']\n",
    "    descriptions.append(description)\n",
    "\n",
    "    temp = data['main']['temp']\n",
    "    temps.append(temp)\n",
    "\n",
    "    pressure = data['main']['pressure']\n",
    "    pressures.append(pressure)\n",
    "\n",
    "    humidity = data['main']['humidity']\n",
    "    humidities.append(humidity)\n",
    "\n",
    "    wind_speed = data['wind']['speed']\n",
    "    wind_speeds.append(wind_speed)\n",
    "\n",
    "    dt = data['dt']\n",
    "    dates.append(dt)\n",
    "\n",
    "    tz = data['timezone']\n",
    "    timezones.append(tz)\n",
    "\n",
    "# Creating DataFrame\n",
    "df = pd.DataFrame({\n",
    "    'Location': locations,\n",
    "    'Weather': weathers,\n",
    "    'Description': descriptions,\n",
    "    'Temperature': temps,\n",
    "    'Pressure': pressures,\n",
    "    'Humidity': humidities,\n",
    "    'Wind Speed': wind_speeds,\n",
    "    'Datetime': dates,\n",
    "    'Timezone': timezones\n",
    "})\n",
    "\n",
    "df"
   ]
  },
  {
   "cell_type": "markdown",
   "metadata": {},
   "source": [
    "# Transformation"
   ]
  },
  {
   "cell_type": "code",
   "execution_count": 42,
   "metadata": {},
   "outputs": [
    {
     "data": {
      "text/html": [
       "<div>\n",
       "<style scoped>\n",
       "    .dataframe tbody tr th:only-of-type {\n",
       "        vertical-align: middle;\n",
       "    }\n",
       "\n",
       "    .dataframe tbody tr th {\n",
       "        vertical-align: top;\n",
       "    }\n",
       "\n",
       "    .dataframe thead th {\n",
       "        text-align: right;\n",
       "    }\n",
       "</style>\n",
       "<table border=\"1\" class=\"dataframe\">\n",
       "  <thead>\n",
       "    <tr style=\"text-align: right;\">\n",
       "      <th></th>\n",
       "      <th>Location</th>\n",
       "      <th>Weather</th>\n",
       "      <th>Description</th>\n",
       "      <th>Temperature</th>\n",
       "      <th>Pressure</th>\n",
       "      <th>Humidity</th>\n",
       "      <th>Wind Speed</th>\n",
       "      <th>Datetime</th>\n",
       "      <th>Timezone</th>\n",
       "    </tr>\n",
       "  </thead>\n",
       "  <tbody>\n",
       "    <tr>\n",
       "      <th>0</th>\n",
       "      <td>London</td>\n",
       "      <td>Clouds</td>\n",
       "      <td>broken clouds</td>\n",
       "      <td>288.76</td>\n",
       "      <td>1021</td>\n",
       "      <td>79</td>\n",
       "      <td>2.57</td>\n",
       "      <td>1717399705</td>\n",
       "      <td>3600</td>\n",
       "    </tr>\n",
       "    <tr>\n",
       "      <th>1</th>\n",
       "      <td>Birmingham</td>\n",
       "      <td>Clouds</td>\n",
       "      <td>broken clouds</td>\n",
       "      <td>287.72</td>\n",
       "      <td>1023</td>\n",
       "      <td>85</td>\n",
       "      <td>3.09</td>\n",
       "      <td>1717399379</td>\n",
       "      <td>3600</td>\n",
       "    </tr>\n",
       "  </tbody>\n",
       "</table>\n",
       "</div>"
      ],
      "text/plain": [
       "     Location Weather    Description  Temperature  Pressure  Humidity  \\\n",
       "0      London  Clouds  broken clouds       288.76      1021        79   \n",
       "1  Birmingham  Clouds  broken clouds       287.72      1023        85   \n",
       "\n",
       "   Wind Speed    Datetime  Timezone  \n",
       "0        2.57  1717399705      3600  \n",
       "1        3.09  1717399379      3600  "
      ]
     },
     "execution_count": 42,
     "metadata": {},
     "output_type": "execute_result"
    }
   ],
   "source": [
    "## convert temperature readings to celcius \n",
    "df1 = df.copy()\n",
    "df1.head(2)"
   ]
  },
  {
   "cell_type": "code",
   "execution_count": 44,
   "metadata": {},
   "outputs": [],
   "source": [
    "df.to_csv(r'raw_weather_data.csv')"
   ]
  },
  {
   "cell_type": "code",
   "execution_count": 45,
   "metadata": {},
   "outputs": [],
   "source": [
    "## convert temperature readings to celcius\n",
    "df1['Temperature'] = df1['Temperature'].apply(lambda x: x - 273.15)"
   ]
  },
  {
   "cell_type": "code",
   "execution_count": 46,
   "metadata": {},
   "outputs": [
    {
     "data": {
      "text/html": [
       "<div>\n",
       "<style scoped>\n",
       "    .dataframe tbody tr th:only-of-type {\n",
       "        vertical-align: middle;\n",
       "    }\n",
       "\n",
       "    .dataframe tbody tr th {\n",
       "        vertical-align: top;\n",
       "    }\n",
       "\n",
       "    .dataframe thead th {\n",
       "        text-align: right;\n",
       "    }\n",
       "</style>\n",
       "<table border=\"1\" class=\"dataframe\">\n",
       "  <thead>\n",
       "    <tr style=\"text-align: right;\">\n",
       "      <th></th>\n",
       "      <th>Location</th>\n",
       "      <th>Weather</th>\n",
       "      <th>Description</th>\n",
       "      <th>Temperature</th>\n",
       "      <th>Pressure</th>\n",
       "      <th>Humidity</th>\n",
       "      <th>Wind Speed</th>\n",
       "      <th>Datetime</th>\n",
       "      <th>Timezone</th>\n",
       "    </tr>\n",
       "  </thead>\n",
       "  <tbody>\n",
       "    <tr>\n",
       "      <th>0</th>\n",
       "      <td>London</td>\n",
       "      <td>Clouds</td>\n",
       "      <td>broken clouds</td>\n",
       "      <td>15.61</td>\n",
       "      <td>1021</td>\n",
       "      <td>79</td>\n",
       "      <td>2.57</td>\n",
       "      <td>1717399705</td>\n",
       "      <td>3600</td>\n",
       "    </tr>\n",
       "    <tr>\n",
       "      <th>1</th>\n",
       "      <td>Birmingham</td>\n",
       "      <td>Clouds</td>\n",
       "      <td>broken clouds</td>\n",
       "      <td>14.57</td>\n",
       "      <td>1023</td>\n",
       "      <td>85</td>\n",
       "      <td>3.09</td>\n",
       "      <td>1717399379</td>\n",
       "      <td>3600</td>\n",
       "    </tr>\n",
       "  </tbody>\n",
       "</table>\n",
       "</div>"
      ],
      "text/plain": [
       "     Location Weather    Description  Temperature  Pressure  Humidity  \\\n",
       "0      London  Clouds  broken clouds        15.61      1021        79   \n",
       "1  Birmingham  Clouds  broken clouds        14.57      1023        85   \n",
       "\n",
       "   Wind Speed    Datetime  Timezone  \n",
       "0        2.57  1717399705      3600  \n",
       "1        3.09  1717399379      3600  "
      ]
     },
     "execution_count": 46,
     "metadata": {},
     "output_type": "execute_result"
    }
   ],
   "source": [
    "df1.head(2)"
   ]
  },
  {
   "cell_type": "code",
   "execution_count": 47,
   "metadata": {},
   "outputs": [],
   "source": [
    "## convert date to a readable format\n",
    "from datetime import datetime\n",
    "def adjust_date(row):\n",
    "    unix_datetime = row['Datetime'] + row['Timezone']\n",
    "\n",
    "    # conversion\n",
    "    actual_datetime = datetime.utcfromtimestamp(unix_datetime)\n",
    "    return actual_datetime"
   ]
  },
  {
   "cell_type": "code",
   "execution_count": 48,
   "metadata": {},
   "outputs": [
    {
     "data": {
      "text/plain": [
       "0    2024-06-03 08:28:25\n",
       "1    2024-06-03 08:22:59\n",
       "2    2024-06-03 08:28:58\n",
       "3    2024-06-03 08:32:54\n",
       "4    2024-06-03 08:28:26\n",
       "             ...        \n",
       "69   2024-06-03 08:33:12\n",
       "70   2024-06-03 08:33:12\n",
       "71   2024-06-03 08:33:12\n",
       "72   2024-06-03 08:33:12\n",
       "73   2024-06-03 08:24:46\n",
       "Length: 74, dtype: datetime64[ns]"
      ]
     },
     "execution_count": 48,
     "metadata": {},
     "output_type": "execute_result"
    }
   ],
   "source": [
    "## apply to the column\n",
    "df1.apply(adjust_date, axis=1)"
   ]
  },
  {
   "cell_type": "code",
   "execution_count": 49,
   "metadata": {},
   "outputs": [],
   "source": [
    "df1['reading_time'] = df1.apply(adjust_date, axis=1)"
   ]
  },
  {
   "cell_type": "code",
   "execution_count": 50,
   "metadata": {},
   "outputs": [
    {
     "data": {
      "text/html": [
       "<div>\n",
       "<style scoped>\n",
       "    .dataframe tbody tr th:only-of-type {\n",
       "        vertical-align: middle;\n",
       "    }\n",
       "\n",
       "    .dataframe tbody tr th {\n",
       "        vertical-align: top;\n",
       "    }\n",
       "\n",
       "    .dataframe thead th {\n",
       "        text-align: right;\n",
       "    }\n",
       "</style>\n",
       "<table border=\"1\" class=\"dataframe\">\n",
       "  <thead>\n",
       "    <tr style=\"text-align: right;\">\n",
       "      <th></th>\n",
       "      <th>Location</th>\n",
       "      <th>Weather</th>\n",
       "      <th>Description</th>\n",
       "      <th>Temperature</th>\n",
       "      <th>Pressure</th>\n",
       "      <th>Humidity</th>\n",
       "      <th>Wind Speed</th>\n",
       "      <th>reading_time</th>\n",
       "    </tr>\n",
       "  </thead>\n",
       "  <tbody>\n",
       "    <tr>\n",
       "      <th>0</th>\n",
       "      <td>London</td>\n",
       "      <td>Clouds</td>\n",
       "      <td>broken clouds</td>\n",
       "      <td>15.61</td>\n",
       "      <td>1021</td>\n",
       "      <td>79</td>\n",
       "      <td>2.57</td>\n",
       "      <td>2024-06-03 08:28:25</td>\n",
       "    </tr>\n",
       "    <tr>\n",
       "      <th>1</th>\n",
       "      <td>Birmingham</td>\n",
       "      <td>Clouds</td>\n",
       "      <td>broken clouds</td>\n",
       "      <td>14.57</td>\n",
       "      <td>1023</td>\n",
       "      <td>85</td>\n",
       "      <td>3.09</td>\n",
       "      <td>2024-06-03 08:22:59</td>\n",
       "    </tr>\n",
       "    <tr>\n",
       "      <th>2</th>\n",
       "      <td>Manchester</td>\n",
       "      <td>Clouds</td>\n",
       "      <td>broken clouds</td>\n",
       "      <td>14.41</td>\n",
       "      <td>1023</td>\n",
       "      <td>89</td>\n",
       "      <td>1.03</td>\n",
       "      <td>2024-06-03 08:28:58</td>\n",
       "    </tr>\n",
       "    <tr>\n",
       "      <th>3</th>\n",
       "      <td>Liverpool</td>\n",
       "      <td>Rain</td>\n",
       "      <td>light rain</td>\n",
       "      <td>14.31</td>\n",
       "      <td>1021</td>\n",
       "      <td>91</td>\n",
       "      <td>5.66</td>\n",
       "      <td>2024-06-03 08:32:54</td>\n",
       "    </tr>\n",
       "    <tr>\n",
       "      <th>4</th>\n",
       "      <td>Leeds</td>\n",
       "      <td>Clouds</td>\n",
       "      <td>few clouds</td>\n",
       "      <td>14.75</td>\n",
       "      <td>1017</td>\n",
       "      <td>84</td>\n",
       "      <td>6.69</td>\n",
       "      <td>2024-06-03 08:28:26</td>\n",
       "    </tr>\n",
       "  </tbody>\n",
       "</table>\n",
       "</div>"
      ],
      "text/plain": [
       "     Location Weather    Description  Temperature  Pressure  Humidity  \\\n",
       "0      London  Clouds  broken clouds        15.61      1021        79   \n",
       "1  Birmingham  Clouds  broken clouds        14.57      1023        85   \n",
       "2  Manchester  Clouds  broken clouds        14.41      1023        89   \n",
       "3   Liverpool    Rain     light rain        14.31      1021        91   \n",
       "4       Leeds  Clouds     few clouds        14.75      1017        84   \n",
       "\n",
       "   Wind Speed        reading_time  \n",
       "0        2.57 2024-06-03 08:28:25  \n",
       "1        3.09 2024-06-03 08:22:59  \n",
       "2        1.03 2024-06-03 08:28:58  \n",
       "3        5.66 2024-06-03 08:32:54  \n",
       "4        6.69 2024-06-03 08:28:26  "
      ]
     },
     "execution_count": 50,
     "metadata": {},
     "output_type": "execute_result"
    }
   ],
   "source": [
    "# Drop 'Datetime' and 'Timezone' columns\n",
    "df1 = df1.drop(columns=['Datetime', 'Timezone'])\n",
    "df1.head()"
   ]
  },
  {
   "cell_type": "code",
   "execution_count": 59,
   "metadata": {},
   "outputs": [],
   "source": [
    "df1.to_csv(r'cleaned_weather_report.csv', index=False)"
   ]
  },
  {
   "cell_type": "code",
   "execution_count": 3,
   "metadata": {},
   "outputs": [
    {
     "data": {
      "text/html": [
       "<div>\n",
       "<style scoped>\n",
       "    .dataframe tbody tr th:only-of-type {\n",
       "        vertical-align: middle;\n",
       "    }\n",
       "\n",
       "    .dataframe tbody tr th {\n",
       "        vertical-align: top;\n",
       "    }\n",
       "\n",
       "    .dataframe thead th {\n",
       "        text-align: right;\n",
       "    }\n",
       "</style>\n",
       "<table border=\"1\" class=\"dataframe\">\n",
       "  <thead>\n",
       "    <tr style=\"text-align: right;\">\n",
       "      <th></th>\n",
       "      <th>Location</th>\n",
       "      <th>Weather</th>\n",
       "      <th>Description</th>\n",
       "      <th>Temperature</th>\n",
       "      <th>Pressure</th>\n",
       "      <th>Humidity</th>\n",
       "      <th>Wind Speed</th>\n",
       "      <th>reading_time</th>\n",
       "    </tr>\n",
       "  </thead>\n",
       "  <tbody>\n",
       "    <tr>\n",
       "      <th>0</th>\n",
       "      <td>London</td>\n",
       "      <td>Clouds</td>\n",
       "      <td>broken clouds</td>\n",
       "      <td>15.61</td>\n",
       "      <td>1021</td>\n",
       "      <td>79</td>\n",
       "      <td>2.57</td>\n",
       "      <td>2024-06-03 08:28:25</td>\n",
       "    </tr>\n",
       "    <tr>\n",
       "      <th>1</th>\n",
       "      <td>Birmingham</td>\n",
       "      <td>Clouds</td>\n",
       "      <td>broken clouds</td>\n",
       "      <td>14.57</td>\n",
       "      <td>1023</td>\n",
       "      <td>85</td>\n",
       "      <td>3.09</td>\n",
       "      <td>2024-06-03 08:22:59</td>\n",
       "    </tr>\n",
       "    <tr>\n",
       "      <th>2</th>\n",
       "      <td>Manchester</td>\n",
       "      <td>Clouds</td>\n",
       "      <td>broken clouds</td>\n",
       "      <td>14.41</td>\n",
       "      <td>1023</td>\n",
       "      <td>89</td>\n",
       "      <td>1.03</td>\n",
       "      <td>2024-06-03 08:28:58</td>\n",
       "    </tr>\n",
       "    <tr>\n",
       "      <th>3</th>\n",
       "      <td>Liverpool</td>\n",
       "      <td>Rain</td>\n",
       "      <td>light rain</td>\n",
       "      <td>14.31</td>\n",
       "      <td>1021</td>\n",
       "      <td>91</td>\n",
       "      <td>5.66</td>\n",
       "      <td>2024-06-03 08:32:54</td>\n",
       "    </tr>\n",
       "    <tr>\n",
       "      <th>4</th>\n",
       "      <td>Leeds</td>\n",
       "      <td>Clouds</td>\n",
       "      <td>few clouds</td>\n",
       "      <td>14.75</td>\n",
       "      <td>1017</td>\n",
       "      <td>84</td>\n",
       "      <td>6.69</td>\n",
       "      <td>2024-06-03 08:28:26</td>\n",
       "    </tr>\n",
       "  </tbody>\n",
       "</table>\n",
       "</div>"
      ],
      "text/plain": [
       "     Location Weather    Description  Temperature  Pressure  Humidity  \\\n",
       "0      London  Clouds  broken clouds        15.61      1021        79   \n",
       "1  Birmingham  Clouds  broken clouds        14.57      1023        85   \n",
       "2  Manchester  Clouds  broken clouds        14.41      1023        89   \n",
       "3   Liverpool    Rain     light rain        14.31      1021        91   \n",
       "4       Leeds  Clouds     few clouds        14.75      1017        84   \n",
       "\n",
       "   Wind Speed         reading_time  \n",
       "0        2.57  2024-06-03 08:28:25  \n",
       "1        3.09  2024-06-03 08:22:59  \n",
       "2        1.03  2024-06-03 08:28:58  \n",
       "3        5.66  2024-06-03 08:32:54  \n",
       "4        6.69  2024-06-03 08:28:26  "
      ]
     },
     "execution_count": 3,
     "metadata": {},
     "output_type": "execute_result"
    }
   ],
   "source": [
    "\n",
    "import pandas as pd\n",
    "df1 = pd.read_csv(r'cleaned_weather_report.csv', index_col=0)\n",
    "df1.head()"
   ]
  },
  {
   "cell_type": "code",
   "execution_count": null,
   "metadata": {},
   "outputs": [],
   "source": []
  },
  {
   "cell_type": "markdown",
   "metadata": {},
   "source": [
    "# Loading to Snowflake\n",
    "\n"
   ]
  },
  {
   "cell_type": "code",
   "execution_count": 9,
   "metadata": {},
   "outputs": [],
   "source": [
    "# stored procedures to be done in staging area (snowflake)"
   ]
  },
  {
   "cell_type": "code",

 

   "execution_count": 4,

   "metadata": {},
   "outputs": [],
   "source": [
    "# Create the database engine\n",
    "import snowflake.sqlalchemy\n",
    "from sqlalchemy import create_engine, text\n",
    "import snowflake.connector\n",
    "\n",
    "engine = create_engine(\n",
    "    'snowflake://{user}:{password}@{account_identifier}/{database}/{schema}?warehouse_name={warehouse}'.format(\n",
    "        user=os.getenv('user'),\n",
    "        password=os.getenv('password'),\n",
    "        account_identifier=os.getenv('account_identifier'),\n",
    "        database=os.getenv('database'),\n",
    "        schema=os.getenv('schema'),\n",
    "        warehouse=os.getenv('warehouse'),\n",
    "    )\n",
    ")\n"
   ]
  },
  {
   "cell_type": "code",
   "execution_count": 22,
   "metadata": {},
   "outputs": [],
   "source": [
    "# another way to create engine if the previous one doesnt work in your environment \n",
    "from snowflake.sqlalchemy import URL\n",
    "\n",
    "snowflake_url = URL(\n",
    "        user=os.getenv('user'),\n",
    "        password=os.getenv('password'),\n",
    "        account=os.getenv('account_identifier'),\n",
    "        database=os.getenv('database'),\n",
    "        schema=os.getenv('schema'),\n",
    "        warehouse=os.getenv('warehouse'),\n",
    "    )\n",
    "# Create a SQLAlchemy engine\n",
    "engine = create_engine(snowflake_url)"
   ]
  },
  {
   "cell_type": "code",
   "execution_count": 18,
   "metadata": {},
   "outputs": [],
   "source": [
    "\n",
    "# Write the DataFrame to the Snowflake database, append if exist\n",
    "# the append specification lets it work with updating it everyday\n",
    "# the parameter method='multi' ; improves performance by inserting multiple rows at once instead of row by row \n",
    "df1.to_sql(\"WeatherData\", con=engine, index=False, if_exists='append', method='multi')\n",
    "\n",
    "engine.dispose()\n"
   ]
  },
  {
   "cell_type": "code",
   "execution_count": 23,
   "metadata": {},
   "outputs": [
    {
     "name": "stdout",
     "output_type": "stream",
     "text": [
      "('London', 'Clouds', 'broken clouds', 15.610000000000014, 1021, 79, 2.57, '2024-06-03 08:28:25')\n",
      "('Birmingham', 'Clouds', 'broken clouds', 14.57000000000005, 1023, 85, 3.09, '2024-06-03 08:22:59')\n",
      "('Manchester', 'Clouds', 'broken clouds', 14.410000000000023, 1023, 89, 1.03, '2024-06-03 08:28:58')\n",
      "('Liverpool', 'Rain', 'light rain', 14.310000000000002, 1021, 91, 5.66, '2024-06-03 08:32:54')\n",
      "('Leeds', 'Clouds', 'few clouds', 14.75, 1017, 84, 6.69, '2024-06-03 08:28:26')\n",
      "('Bristol', 'Clouds', 'scattered clouds', 16.120000000000005, 1023, 81, 2.06, '2024-06-03 08:23:34')\n",
      "('Sheffield', 'Clouds', 'overcast clouds', 15.400000000000034, 1042, 69, 0.45, '2024-06-03 08:27:17')\n",
      "('Leicester', 'Clouds', 'overcast clouds', 14.980000000000018, 1022, 86, 4.37, '2024-06-03 08:25:06')\n",
      "('Coventry', 'Clouds', 'broken clouds', 15.08000000000004, 1023, 84, 3.6, '2024-06-03 08:32:55')\n",
      "('Kingston upon Hull', 'Clouds', 'overcast clouds', 15.010000000000048, 1020, 41, 3.6, '2024-06-03 08:32:55')\n"
     ]
    }
   ],
   "source": [
    "# query the database \n",
    "sql_query = \"\"\"\n",
    "SELECT * FROM \"WeatherData\" LIMIT 10;\n",
    "\"\"\"\n",
    "\n",
    "# Define parameters if your query has placeholders\n",
    "params = {\"condition_value\": \"some_value\"}\n",
    "\n",
    "# Execute the SQL query\n",
    "with engine.connect() as connection:\n",
    "    result = connection.execute(text(sql_query), **params)\n",
    "    # Fetch all rows\n",
    "    rows = result.fetchall()\n",
    "    # Process the rows\n",
    "    for row in rows:\n",
    "        print(row)"
   ]
  },
  {
   "cell_type": "code",
   "execution_count": null,
   "metadata": {},
   "outputs": [],

   "source": [
    "\n",
    "# Write the DataFrame to the Snowflake database, append if exist\n",
    "# the append specification lets it work with updating the staging db everyday\n",
    "\n",
    "df1.to_sql('weather', con=engine, index=False, if_exists='append')\n",
    "engine.dispose()\n"
   ]
  },
  {
   "cell_type": "code",
   "execution_count": 1,
   "metadata": {},
   "outputs": [
    {
     "name": "stdout",
     "output_type": "stream",
     "text": [
      "Collecting dbt\n",
      "  Downloading dbt-1.0.0.37.19.tar.gz (3.0 kB)\n",
      "  Preparing metadata (setup.py) ... \u001b[?25ldone\n",
      "\u001b[?25hRequirement already satisfied: setuptools>=61.2 in /opt/anaconda3/lib/python3.11/site-packages (from dbt) (69.5.1)\n",
      "Building wheels for collected packages: dbt\n",
      "  Building wheel for dbt (setup.py) ... \u001b[?25ldone\n",
      "\u001b[?25h  Created wheel for dbt: filename=dbt-1.0.0.37.19-py3-none-any.whl size=1879 sha256=ca4da6ff45a4ab5b98c72d3658b0c01d0df08ea4c2118e7482976e6121f9a309\n",
      "  Stored in directory: /Users/villy/Library/Caches/pip/wheels/02/bf/c3/a98066d87dfe9d0352271b3946f26590512d24a96c78d0c801\n",
      "Successfully built dbt\n",
      "Installing collected packages: dbt\n",
      "Successfully installed dbt-1.0.0.37.19\n"
     ]
    }
   ],
   "source": [
    "!pip install dbt"
   ]
  },
  {
   "cell_type": "code",
   "execution_count": null,
   "metadata": {},
   "outputs": [],

   "source": []
  }
 ],
 "metadata": {
  "kernelspec": {
   "display_name": "base",
   "language": "python",
   "name": "python3"
  },
  "language_info": {
   "codemirror_mode": {
    "name": "ipython",
    "version": 3
   },
   "file_extension": ".py",
   "mimetype": "text/x-python",
   "name": "python",
   "nbconvert_exporter": "python",
   "pygments_lexer": "ipython3",
   "version": "3.10.9"
  }
 },
 "nbformat": 4,
 "nbformat_minor": 2
}
